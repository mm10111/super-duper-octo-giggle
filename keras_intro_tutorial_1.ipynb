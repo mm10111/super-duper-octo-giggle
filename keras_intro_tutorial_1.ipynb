{
  "nbformat": 4,
  "nbformat_minor": 0,
  "metadata": {
    "colab": {
      "name": "keras_intro_tutorial_1.ipynb",
      "provenance": [],
      "collapsed_sections": []
    },
    "kernelspec": {
      "name": "python3",
      "display_name": "Python 3"
    },
    "language_info": {
      "name": "python"
    }
  },
  "cells": [
    {
      "cell_type": "markdown",
      "source": [
        "Following the keras introduction tutorial : https://keras.io/getting_started/intro_to_keras_for_researchers/#keeping-track-of-training-metrics"
      ],
      "metadata": {
        "id": "hv8IOUJcOjPJ"
      }
    },
    {
      "cell_type": "code",
      "execution_count": 1,
      "metadata": {
        "id": "2VUzPcQxFilP"
      },
      "outputs": [],
      "source": [
        "# importing libraries"
      ]
    },
    {
      "cell_type": "code",
      "source": [
        "import tensorflow as tf\n",
        "from tensorflow import keras"
      ],
      "metadata": {
        "id": "QYE6r2_cGse2"
      },
      "execution_count": 2,
      "outputs": []
    },
    {
      "cell_type": "code",
      "source": [
        "# creating a constant tensor\n",
        "x = tf.constant([[5,2], [1,3]])\n",
        "print(x)"
      ],
      "metadata": {
        "colab": {
          "base_uri": "https://localhost:8080/"
        },
        "id": "HB2pHLD3GwSx",
        "outputId": "3d4fd453-bf51-4d88-99d0-a2a7800c0fdb"
      },
      "execution_count": 3,
      "outputs": [
        {
          "output_type": "stream",
          "name": "stdout",
          "text": [
            "tf.Tensor(\n",
            "[[5 2]\n",
            " [1 3]], shape=(2, 2), dtype=int32)\n"
          ]
        }
      ]
    },
    {
      "cell_type": "code",
      "source": [
        "# converting a tensor to numpy array\n",
        "x.numpy()"
      ],
      "metadata": {
        "colab": {
          "base_uri": "https://localhost:8080/"
        },
        "id": "yQgIGEAZOpVT",
        "outputId": "29bd945d-b6aa-46cc-bd7b-75000b8be824"
      },
      "execution_count": 4,
      "outputs": [
        {
          "output_type": "execute_result",
          "data": {
            "text/plain": [
              "array([[5, 2],\n",
              "       [1, 3]], dtype=int32)"
            ]
          },
          "metadata": {},
          "execution_count": 4
        }
      ]
    },
    {
      "cell_type": "code",
      "source": [
        "# checking the dtype and shape of the tensor\n",
        "print(\"dtype:\", x.dtype)\n",
        "print(\"shape:\", x.shape)"
      ],
      "metadata": {
        "colab": {
          "base_uri": "https://localhost:8080/"
        },
        "id": "358tB57mIAwq",
        "outputId": "6b3b2836-e02a-496c-f9b7-387f1f4ad312"
      },
      "execution_count": 5,
      "outputs": [
        {
          "output_type": "stream",
          "name": "stdout",
          "text": [
            "dtype: <dtype: 'int32'>\n",
            "shape: (2, 2)\n"
          ]
        }
      ]
    },
    {
      "cell_type": "code",
      "source": [
        "# creating constant tensors using tf.ones and tf.zeros method\n",
        "# the method is similar to numpy methods (np.ones & np.zeros)\n",
        "print(tf.ones(shape=(2,1)))\n",
        "print(tf.zeros(shape=(2,1)))"
      ],
      "metadata": {
        "colab": {
          "base_uri": "https://localhost:8080/"
        },
        "id": "p9pwcc3eIBHT",
        "outputId": "476861c2-951a-411f-8263-a12efc2d82b8"
      },
      "execution_count": 6,
      "outputs": [
        {
          "output_type": "stream",
          "name": "stdout",
          "text": [
            "tf.Tensor(\n",
            "[[1.]\n",
            " [1.]], shape=(2, 1), dtype=float32)\n",
            "tf.Tensor(\n",
            "[[0.]\n",
            " [0.]], shape=(2, 1), dtype=float32)\n"
          ]
        }
      ]
    },
    {
      "cell_type": "code",
      "source": [
        "# creating random constant tensors\n",
        "x = tf.random.normal(shape=(2,2), mean=0.0, stddev=1.0)\n",
        "x = tf.random.uniform(shape=(2,2), minval=0, maxval=10, dtype=\"int32\")"
      ],
      "metadata": {
        "id": "tfbTMXiuIBUK"
      },
      "execution_count": 7,
      "outputs": []
    },
    {
      "cell_type": "code",
      "source": [
        "# creating a variable using initial value\n",
        "initial_value__of_variable = tf.random.normal(shape=(2,2))\n",
        "a_random_variable = tf.Variable(initial_value__of_variable)\n",
        "print(a_random_variable)"
      ],
      "metadata": {
        "colab": {
          "base_uri": "https://localhost:8080/"
        },
        "id": "0DvHTLoGIBgr",
        "outputId": "85ea84b2-b05c-425f-95d9-9933866b9e62"
      },
      "execution_count": 10,
      "outputs": [
        {
          "output_type": "stream",
          "name": "stdout",
          "text": [
            "<tf.Variable 'Variable:0' shape=(2, 2) dtype=float32, numpy=\n",
            "array([[-0.14770553,  0.9771248 ],\n",
            "       [-2.6789577 ,  0.9209706 ]], dtype=float32)>\n"
          ]
        }
      ]
    },
    {
      "cell_type": "code",
      "source": [
        "#updating the value of the variable using the methods .assign(value), .assign_add(increment), or.assign_sub_(decrement)\n",
        "new_value_to_update = tf.random.normal(shape=(2,2)) \n",
        "a_random_variable.assign(new_value_to_update) \n",
        "for i in range(2): \n",
        "  for j in range(2): \n",
        "      assert a_random_variable[i,j] == new_value_to_update[i,j]\n",
        "\n",
        "added_value = tf.random.normal(shape=(2,2)) \n",
        "a_random_variable.assign_add(added_value) \n",
        "for i in range(2): \n",
        "  for j in range(2): \n",
        "    assert a_random_variable[i,j] == new_value_to_update[i, j] + added_value[i, j]"
      ],
      "metadata": {
        "id": "XbA-AtpuRc7D"
      },
      "execution_count": 19,
      "outputs": []
    },
    {
      "cell_type": "code",
      "source": [
        "# math operations in tensorflow\n",
        "z = tf.random.normal(shape=(2,2))\n",
        "x = tf.random.normal(shape=(2,2))\n",
        "y = z + x\n",
        "o = tf.square(y)\n",
        "p = tf.exp(o)"
      ],
      "metadata": {
        "id": "a-aHhRFJR59U"
      },
      "execution_count": 21,
      "outputs": []
    },
    {
      "cell_type": "code",
      "source": [
        "# gradients \n",
        "# you can retrive the gradient of any differentiable expression\n",
        "# just open the gradient tape, start watching a tensor via tape.watch(), and compose a differentiable expression using this tensor as input\n",
        "with tf.GradientTape() as tape:\n",
        "  # record the operations history of tensor z \n",
        "  tape.watch(z) \n",
        "  a = tf.sqrt(tf.square(z) + tf.square(y))\n",
        "  # gradient of a with respect to z\n",
        "  da_dz = tape.gradient(a,z)\n",
        "  print(da_dz)\n",
        "  "
      ],
      "metadata": {
        "colab": {
          "base_uri": "https://localhost:8080/"
        },
        "id": "QW0iiI9dSN7U",
        "outputId": "ec0d631f-82b3-40e7-ddc5-fb793dbee344"
      },
      "execution_count": 22,
      "outputs": [
        {
          "output_type": "stream",
          "name": "stdout",
          "text": [
            "tf.Tensor(\n",
            "[[ 0.9105888   0.49310702]\n",
            " [ 0.25751022 -0.14513414]], shape=(2, 2), dtype=float32)\n"
          ]
        }
      ]
    },
    {
      "cell_type": "code",
      "source": [
        ""
      ],
      "metadata": {
        "id": "MJlmNqtPSOF4"
      },
      "execution_count": null,
      "outputs": []
    },
    {
      "cell_type": "code",
      "source": [
        ""
      ],
      "metadata": {
        "id": "PMbBOp4qSOOY"
      },
      "execution_count": null,
      "outputs": []
    },
    {
      "cell_type": "code",
      "source": [
        ""
      ],
      "metadata": {
        "id": "-BY4WtSnSOVs"
      },
      "execution_count": null,
      "outputs": []
    },
    {
      "cell_type": "code",
      "source": [
        ""
      ],
      "metadata": {
        "id": "9_zLChXdSOdL"
      },
      "execution_count": null,
      "outputs": []
    }
  ]
}